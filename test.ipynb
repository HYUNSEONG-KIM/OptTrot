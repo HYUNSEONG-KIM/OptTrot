{
 "cells": [
  {
   "cell_type": "code",
   "execution_count": 1,
   "metadata": {},
   "outputs": [],
   "source": [
    "import numpy as np"
   ]
  },
  {
   "cell_type": "code",
   "execution_count": 2,
   "metadata": {},
   "outputs": [],
   "source": [
    "A = np.asmatrix(np.random.rand(4,4))\n",
    "B = np.asmatrix(np.random.rand(4,4))\n"
   ]
  },
  {
   "cell_type": "code",
   "execution_count": 3,
   "metadata": {},
   "outputs": [],
   "source": [
    "A = A.H@A\n",
    "B = B.H@B"
   ]
  },
  {
   "cell_type": "code",
   "execution_count": 4,
   "metadata": {},
   "outputs": [],
   "source": [
    "H = A + 1j*B"
   ]
  },
  {
   "cell_type": "code",
   "execution_count": 5,
   "metadata": {},
   "outputs": [],
   "source": [
    "exp2_n = H.shape[0]\n",
    "n = int(np.log2(exp2_n))"
   ]
  },
  {
   "cell_type": "code",
   "execution_count": 6,
   "metadata": {},
   "outputs": [],
   "source": [
    "from copy import deepcopy"
   ]
  },
  {
   "cell_type": "code",
   "execution_count": 7,
   "metadata": {},
   "outputs": [],
   "source": [
    "m11 = deepcopy(H[:2, :2])\n",
    "m22 = deepcopy(H[2:, 2:])"
   ]
  },
  {
   "cell_type": "code",
   "execution_count": 8,
   "metadata": {},
   "outputs": [],
   "source": [
    "m3 = (m11+m22)/2"
   ]
  },
  {
   "cell_type": "code",
   "execution_count": 9,
   "metadata": {},
   "outputs": [
    {
     "data": {
      "text/plain": [
       "matrix([[2.16065397+1.21264604j, 1.12622275+0.68401471j],\n",
       "        [1.12622275+0.68401471j, 0.95826099+0.91737602j]])"
      ]
     },
     "execution_count": 9,
     "metadata": {},
     "output_type": "execute_result"
    }
   ],
   "source": [
    "m3"
   ]
  },
  {
   "cell_type": "code",
   "execution_count": 10,
   "metadata": {},
   "outputs": [
    {
     "data": {
      "text/plain": [
       "(1.559457480272172+1.065011028106736j)"
      ]
     },
     "execution_count": 10,
     "metadata": {},
     "output_type": "execute_result"
    }
   ],
   "source": [
    "(m3[0,0] + m3[1,1])/2"
   ]
  },
  {
   "cell_type": "code",
   "execution_count": 11,
   "metadata": {},
   "outputs": [],
   "source": [
    "submatrix_size = [2, 1]\n",
    "iter_size = [1, 2]"
   ]
  },
  {
   "cell_type": "code",
   "execution_count": 12,
   "metadata": {},
   "outputs": [],
   "source": [
    "#for sub_s, it_s in zip(submatrix_size, iter_size):\n",
    "#    for  i in range(it_s):\n",
    "#        for k in range(it_s):\n",
    "#            H[i:i+sub_s, k:k+sub_s] += H[i+sub_s:i+2*sub_s, k+sub_s:k+2*sub_s]\n",
    "#            H[i+sub_s:i+2*sub_s, k+sub_s:k+2*sub_s] = H[i:i+sub_s, k:k+sub_s]-2*H[i+sub_s:i+2*sub_s, k+sub_s:k+2*sub_s]\n",
    "#            H *=0.5\n",
    "# "
   ]
  },
  {
   "cell_type": "code",
   "execution_count": 13,
   "metadata": {},
   "outputs": [],
   "source": [
    "sub_s = 1\n",
    "it_s = 2\n",
    "i = 0*sub_s\n",
    "k = 0*sub_s\n",
    "\n",
    "H[i:i+sub_s, k:k+sub_s] += H[i+sub_s:i+2*sub_s, k+sub_s:k+2*sub_s]\n",
    "H[i+sub_s:i+2*sub_s, k+sub_s:k+2*sub_s] = H[i:i+sub_s, k:k+sub_s]-2*H[i+sub_s:i+2*sub_s, k+sub_s:k+2*sub_s]\n",
    "H *=0.5"
   ]
  },
  {
   "cell_type": "code",
   "execution_count": 14,
   "metadata": {},
   "outputs": [
    {
     "data": {
      "text/plain": [
       "matrix([[1.74357174+1.17154197j, 0.73084689+0.35887023j,\n",
       "         1.05998855+0.55524057j, 0.5038645 +0.32208614j],\n",
       "        [0.73084689+0.35887023j, 0.65867728-0.15549125j,\n",
       "         0.62307456+0.48697968j, 0.39591022+0.31148554j],\n",
       "        [1.05998855+0.55524057j, 0.62307456+0.48697968j,\n",
       "         0.95952946+0.70462068j, 0.39537586+0.32514448j],\n",
       "        [0.5038645 +0.32208614j, 0.39591022+0.31148554j,\n",
       "         0.39537586+0.32514448j, 0.41581376+0.25385941j]])"
      ]
     },
     "execution_count": 14,
     "metadata": {},
     "output_type": "execute_result"
    }
   ],
   "source": [
    "H"
   ]
  },
  {
   "cell_type": "code",
   "execution_count": 15,
   "metadata": {},
   "outputs": [
    {
     "data": {
      "text/plain": [
       "(1.7435717427579198+1.1715419665913733j)"
      ]
     },
     "execution_count": 15,
     "metadata": {},
     "output_type": "execute_result"
    }
   ],
   "source": [
    "H[0,0]"
   ]
  },
  {
   "cell_type": "markdown",
   "metadata": {},
   "source": [
    "이거 Pauli term들이 몇개 주어져 있으면 중간에 특정 위치는 연산을 안하는 걸로 최적화가 가능해 보이는데\n",
    "확인해보자"
   ]
  },
  {
   "cell_type": "code",
   "execution_count": 16,
   "metadata": {},
   "outputs": [],
   "source": [
    "H[:4, :4]\n",
    "\n",
    "\n",
    "m12 = H[:4, 4:]\n",
    "m21 = H[4:, :4]"
   ]
  },
  {
   "cell_type": "code",
   "execution_count": 17,
   "metadata": {},
   "outputs": [
    {
     "data": {
      "text/plain": [
       "matrix([], shape=(0, 0), dtype=complex128)"
      ]
     },
     "execution_count": 17,
     "metadata": {},
     "output_type": "execute_result"
    }
   ],
   "source": [
    "H[4:, 4:]"
   ]
  },
  {
   "cell_type": "code",
   "execution_count": 18,
   "metadata": {},
   "outputs": [],
   "source": [
    "m12 = H[:4, 4:]\n",
    "m21 = H[4:, :4]\n"
   ]
  },
  {
   "cell_type": "code",
   "execution_count": null,
   "metadata": {},
   "outputs": [],
   "source": []
  }
 ],
 "metadata": {
  "kernelspec": {
   "display_name": "Python 3",
   "language": "python",
   "name": "python3"
  },
  "language_info": {
   "codemirror_mode": {
    "name": "ipython",
    "version": 3
   },
   "file_extension": ".py",
   "mimetype": "text/x-python",
   "name": "python",
   "nbconvert_exporter": "python",
   "pygments_lexer": "ipython3",
   "version": "3.11.4"
  }
 },
 "nbformat": 4,
 "nbformat_minor": 2
}
