{
 "cells": [
  {
   "cell_type": "markdown",
   "metadata": {},
   "source": [
    "## Review of Composer method"
   ]
  },
  {
   "cell_type": "markdown",
   "metadata": {},
   "source": [
    "### Qiskit\n",
    "\n",
    "### Single Pauli term\n",
    "\n",
    "- `qiskit.quantum_info.Pauli` module:\n",
    "\n",
    "### Multi Pauli terms\n",
    "\n",
    "- `SparsePauliOp` module: Qiskit use a rust implementation written in `qiskit/crates/accelerate/src/sparse_pauli_op.rs`.\n",
    "This routine is based on PauliComposer method. There are row coefficient determinator and thread routines."
   ]
  },
  {
   "cell_type": "code",
   "execution_count": null,
   "metadata": {},
   "outputs": [],
   "source": []
  }
 ],
 "metadata": {
  "language_info": {
   "name": "python"
  }
 },
 "nbformat": 4,
 "nbformat_minor": 2
}
