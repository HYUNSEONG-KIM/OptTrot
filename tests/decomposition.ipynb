{
 "cells": [
  {
   "cell_type": "code",
   "execution_count": 1,
   "metadata": {},
   "outputs": [],
   "source": [
    "import os\n",
    "import sys\n",
    "module_path = os.path.abspath(os.path.join('..'))\n",
    "if module_path not in sys.path:\n",
    "    sys.path.append(module_path)"
   ]
  },
  {
   "cell_type": "code",
   "execution_count": 2,
   "metadata": {},
   "outputs": [],
   "source": [
    "import opttrot\n"
   ]
  },
  {
   "cell_type": "markdown",
   "metadata": {},
   "source": [
    "## Fast Pauli decomposition algorithm implementation\n",
    "\n",
    "```\n",
    "Hantzko, Binkowski, and Gupta, Tensorized Pauli decomposition algorithm\n",
    "```"
   ]
  },
  {
   "cell_type": "code",
   "execution_count": 3,
   "metadata": {},
   "outputs": [],
   "source": [
    "import numpy as np\n",
    "from copy import deepcopy"
   ]
  },
  {
   "cell_type": "code",
   "execution_count": 4,
   "metadata": {},
   "outputs": [],
   "source": [
    "from opttrot import utils "
   ]
  },
  {
   "cell_type": "code",
   "execution_count": 55,
   "metadata": {},
   "outputs": [],
   "source": [
    "# Size = 2^n Hermit matrix\n",
    "n =3\n",
    "size_n = int(2**n)\n",
    "A = np.asmatrix(np.random.rand(size_n, size_n).astype(complex))\n",
    "ImA = np.asmatrix(np.random.rand(size_n, size_n).astype(complex))\n",
    "A = A.H@A\n",
    "ImA = ImA.H@ImA\n",
    "H = A+1j*ImA"
   ]
  },
  {
   "cell_type": "code",
   "execution_count": 56,
   "metadata": {},
   "outputs": [],
   "source": [
    "pauli_matrix, pauli_terms = opttrot.Hamiltonian.generate_pauli_terms(n) # Get 2^n pauli-terms"
   ]
  },
  {
   "cell_type": "code",
   "execution_count": 57,
   "metadata": {},
   "outputs": [],
   "source": [
    "# Frobenius inner product\n",
    "decomposition = {}\n",
    "for matrix, term in zip(pauli_matrix, pauli_terms):\n",
    "    coef = utils.frobenius_inner(matrix, H)\n",
    "    decomposition[term] = coef"
   ]
  },
  {
   "cell_type": "code",
   "execution_count": 58,
   "metadata": {},
   "outputs": [
    {
     "data": {
      "text/plain": [
       "{'III': (2.40640839661886+2.1423272063545706j),\n",
       " 'IIZ': (0.1208985770308244+0.25431370257375024j),\n",
       " 'IZI': (-0.16737812372628325-0.12174086376292226j),\n",
       " 'IZZ': (-0.23933556468842476-0.3046000214238696j),\n",
       " 'ZII': (0.10769945523644359-0.17593902357749275j),\n",
       " 'ZIZ': (-0.26741620807943184+0.09918923748402803j),\n",
       " 'ZZI': (0.20003160004891346-0.06569710023532904j),\n",
       " 'ZZZ': (-0.07172214401935012+0.07627223384781034j),\n",
       " 'IIX': (1.6087834631278974+1.6480481965939713j),\n",
       " 'IIY': 0j,\n",
       " 'IZX': (-0.22856382510350826-0.2503372530168946j),\n",
       " 'IZY': 0j,\n",
       " 'ZIX': (0.011549165833156932-0.16758330679488642j),\n",
       " 'ZIY': 0j,\n",
       " 'ZZX': (0.38678859302994506-0.02289270761512685j),\n",
       " 'ZZY': 0j,\n",
       " 'IXI': (1.9222499110377442+1.6268944223768693j),\n",
       " 'IXZ': (-0.08069696633930823+0.20717214884591018j),\n",
       " 'IYI': 0j,\n",
       " 'IYZ': 0j,\n",
       " 'ZXI': (0.26289937096845495-0.2669973970686793j),\n",
       " 'ZXZ': (-0.12398834952167037+0.31181204913800886j),\n",
       " 'ZYI': 0j,\n",
       " 'ZYZ': 0j,\n",
       " 'IXX': (1.737031562412017+1.5219549175261866j),\n",
       " 'IXY': 0j,\n",
       " 'IYX': 0j,\n",
       " 'IYY': (0.2421994152789244+0.21633935869187992j),\n",
       " 'ZXX': (-0.13118783369332698-0.14497005854982203j),\n",
       " 'ZXY': 0j,\n",
       " 'ZYX': 0j,\n",
       " 'ZYY': (-0.06979288480551604-0.4642221322961856j),\n",
       " 'XII': (1.7553251882602998+1.3851944892278838j),\n",
       " 'XIZ': (-0.08871493605418362+0.18484574328109105j),\n",
       " 'XZI': (-0.2693689375370337+0.21115877007423733j),\n",
       " 'XZZ': (-0.14293387901352933-0.3383658541727119j),\n",
       " 'YII': 0j,\n",
       " 'YIZ': 0j,\n",
       " 'YZI': 0j,\n",
       " 'YZZ': 0j,\n",
       " 'XIX': (1.555543678534538+1.303793419827349j),\n",
       " 'XIY': 0j,\n",
       " 'XZX': (-0.10822967196252176+0.04563256800723259j),\n",
       " 'XZY': 0j,\n",
       " 'YIX': 0j,\n",
       " 'YIY': (0.3252385681227682-0.008737181719973452j),\n",
       " 'YZX': 0j,\n",
       " 'YZY': (0.058996779353625683-0.17768650109427658j),\n",
       " 'XXI': (1.7402549362069326+1.4615695399563249j),\n",
       " 'XXZ': (0.045902253703065554+0.17645925826190967j),\n",
       " 'XYI': 0j,\n",
       " 'XYZ': 0j,\n",
       " 'YXI': 0j,\n",
       " 'YXZ': 0j,\n",
       " 'YYI': (-0.3214045002599016-0.2571625449602058j),\n",
       " 'YYZ': (0.057407377939886206+0.018866429996976686j),\n",
       " 'XXX': (1.7232925226270253+1.5349995309846738j),\n",
       " 'XXY': 0j,\n",
       " 'XYX': 0j,\n",
       " 'XYY': (0.13630326444062368+0.3378095745679095j),\n",
       " 'YXX': 0j,\n",
       " 'YXY': (0.4119651947491636+0.14394238920527463j),\n",
       " 'YYX': (-0.2540402332131467-0.09408178507384651j),\n",
       " 'YYY': 0j}"
      ]
     },
     "execution_count": 58,
     "metadata": {},
     "output_type": "execute_result"
    }
   ],
   "source": [
    "decomposition"
   ]
  },
  {
   "cell_type": "code",
   "execution_count": 62,
   "metadata": {},
   "outputs": [],
   "source": [
    "H_test = deepcopy(H)"
   ]
  },
  {
   "cell_type": "markdown",
   "metadata": {},
   "source": [
    "### Implementation"
   ]
  },
  {
   "cell_type": "code",
   "execution_count": 63,
   "metadata": {},
   "outputs": [
    {
     "name": "stdout",
     "output_type": "stream",
     "text": [
      "Hamiltonian shape: (8, 8)\n",
      "Total qubits: 3\n"
     ]
    }
   ],
   "source": [
    "exp2n = H_test.shape[0]\n",
    "n = int(np.log2(exp2n))\n",
    "\n",
    "print(\"Hamiltonian shape:\", H_test.shape)\n",
    "print(\"Total qubits:\", n)\n"
   ]
  },
  {
   "cell_type": "code",
   "execution_count": 64,
   "metadata": {},
   "outputs": [
    {
     "name": "stdout",
     "output_type": "stream",
     "text": [
      "number of submatrix: 1\n",
      "sub matrix unit: 4\n",
      "0, 0\n",
      "I-Z: 0:4, 0:4 | 4: 8, 4:8\n",
      "X-Y: 0:4, 4:8 | 4: 8, 0:4\n",
      "------------------------------------------------\n",
      "number of submatrix: 2\n",
      "sub matrix unit: 2\n",
      "0, 0\n",
      "I-Z: 0:2, 0:2 | 2: 4, 2:4\n",
      "X-Y: 0:2, 2:4 | 2: 4, 0:2\n",
      "0, 2\n",
      "I-Z: 0:2, 2:4 | 2: 4, 4:6\n",
      "X-Y: 0:2, 4:6 | 2: 4, 2:4\n",
      "2, 0\n",
      "I-Z: 2:4, 0:2 | 4: 6, 2:4\n",
      "X-Y: 2:4, 2:4 | 4: 6, 0:2\n",
      "2, 2\n",
      "I-Z: 2:4, 2:4 | 4: 6, 4:6\n",
      "X-Y: 2:4, 4:6 | 4: 6, 2:4\n",
      "------------------------------------------------\n",
      "number of submatrix: 4\n",
      "sub matrix unit: 1\n",
      "0, 0\n",
      "I-Z: 0:1, 0:1 | 1: 2, 1:2\n",
      "X-Y: 0:1, 1:2 | 1: 2, 0:1\n",
      "0, 1\n",
      "I-Z: 0:1, 1:2 | 1: 2, 2:3\n",
      "X-Y: 0:1, 2:3 | 1: 2, 1:2\n",
      "0, 2\n",
      "I-Z: 0:1, 2:3 | 1: 2, 3:4\n",
      "X-Y: 0:1, 3:4 | 1: 2, 2:3\n",
      "0, 3\n",
      "I-Z: 0:1, 3:4 | 1: 2, 4:5\n",
      "X-Y: 0:1, 4:5 | 1: 2, 3:4\n",
      "1, 0\n",
      "I-Z: 1:2, 0:1 | 2: 3, 1:2\n",
      "X-Y: 1:2, 1:2 | 2: 3, 0:1\n",
      "1, 1\n",
      "I-Z: 1:2, 1:2 | 2: 3, 2:3\n",
      "X-Y: 1:2, 2:3 | 2: 3, 1:2\n",
      "1, 2\n",
      "I-Z: 1:2, 2:3 | 2: 3, 3:4\n",
      "X-Y: 1:2, 3:4 | 2: 3, 2:3\n",
      "1, 3\n",
      "I-Z: 1:2, 3:4 | 2: 3, 4:5\n",
      "X-Y: 1:2, 4:5 | 2: 3, 3:4\n",
      "2, 0\n",
      "I-Z: 2:3, 0:1 | 3: 4, 1:2\n",
      "X-Y: 2:3, 1:2 | 3: 4, 0:1\n",
      "2, 1\n",
      "I-Z: 2:3, 1:2 | 3: 4, 2:3\n",
      "X-Y: 2:3, 2:3 | 3: 4, 1:2\n",
      "2, 2\n",
      "I-Z: 2:3, 2:3 | 3: 4, 3:4\n",
      "X-Y: 2:3, 3:4 | 3: 4, 2:3\n",
      "2, 3\n",
      "I-Z: 2:3, 3:4 | 3: 4, 4:5\n",
      "X-Y: 2:3, 4:5 | 3: 4, 3:4\n",
      "3, 0\n",
      "I-Z: 3:4, 0:1 | 4: 5, 1:2\n",
      "X-Y: 3:4, 1:2 | 4: 5, 0:1\n",
      "3, 1\n",
      "I-Z: 3:4, 1:2 | 4: 5, 2:3\n",
      "X-Y: 3:4, 2:3 | 4: 5, 1:2\n",
      "3, 2\n",
      "I-Z: 3:4, 2:3 | 4: 5, 3:4\n",
      "X-Y: 3:4, 3:4 | 4: 5, 2:3\n",
      "3, 3\n",
      "I-Z: 3:4, 3:4 | 4: 5, 4:5\n",
      "X-Y: 3:4, 4:5 | 4: 5, 3:4\n",
      "------------------------------------------------\n"
     ]
    }
   ],
   "source": [
    "# Implementation of decomposition\n",
    "l = int(exp2n)\n",
    "for i in range(n): #range(n)\n",
    "    m = int(2**i)\n",
    "    l = int(l/2)\n",
    "\n",
    "    print(\"number of submatrix:\", m)\n",
    "    print(\"sub matrix unit:\", l)\n",
    "\n",
    "    for j in range(m):\n",
    "        for k in range(m):\n",
    "\n",
    "            num_i = j*l\n",
    "            num_j = k*l\n",
    "\n",
    "            print(f\"{num_i}, {num_j}\")\n",
    "\n",
    "            print(f\"I-Z: {num_i}:{num_i+l}, {num_j}:{num_j+l} | {num_i+l}: {num_i+2*l}, {num_j+l}:{num_j+2*l}\")\n",
    "            H_test[num_i: num_i+l, num_j:num_j+l] += H_test[num_i+l: num_i+2*l, num_j+l:num_j+2*l] \n",
    "            H_test[num_i+l: num_i+2*l, num_j+l:num_j+2*l]  = H_test[num_i: num_i+l, num_j:num_j+l] - 2*H_test[num_i+l: num_i+2*l, num_j+l:num_j+2*l]\n",
    "\n",
    "            print(f\"X-Y: {num_i}:{num_i+l}, {num_j+l}:{num_j+2*l} | {num_i+l}: {num_i+2*l}, {num_j}:{num_j+l}\")\n",
    "            H_test[num_i: num_i+l, num_j+l:num_j+2*l] += H_test[num_i+l: num_i+2*l, num_j:num_j+l] \n",
    "            H_test[num_i+l: num_i+2*l, num_j:num_j+l] =  H_test[num_i: num_i+l, num_j+l:num_j+2*l] - 2*H_test[num_i+l: num_i+2*l, num_j:num_j+l]\n",
    "            H_test[num_i+l: num_i+2*l, num_j:num_j+l] *= -1j\n",
    "    print(\"------------------------------------------------\")\n",
    "    H_test *= 0.5\n"
   ]
  },
  {
   "cell_type": "code",
   "execution_count": 35,
   "metadata": {},
   "outputs": [
    {
     "data": {
      "text/plain": [
       "{'II': (0.9005362940313093+1.3204313675811121j),\n",
       " 'IZ': (-0.08622551788374488-0.08438509874824277j),\n",
       " 'ZI': (-0.37607936649825796-0.2072217820735276j),\n",
       " 'ZZ': (-0.2333821608383625+0.30023520183510644j),\n",
       " 'IX': (0.7635570833803782+0.9990637222435708j),\n",
       " 'IY': 0j,\n",
       " 'ZX': (-0.3685600234469523-0.32519660297994957j),\n",
       " 'ZY': 0j,\n",
       " 'XI': (0.4870871213098663+0.9587796614603952j),\n",
       " 'XZ': (-0.061228390080900724-0.00888796892719318j),\n",
       " 'YI': 0j,\n",
       " 'YZ': 0j,\n",
       " 'XX': (0.521002575605159+1.058572172370484j),\n",
       " 'XY': 0j,\n",
       " 'YX': 0j,\n",
       " 'YY': (0.24851833341979765-0.17550013528666797j)}"
      ]
     },
     "execution_count": 35,
     "metadata": {},
     "output_type": "execute_result"
    }
   ],
   "source": [
    "decomposition"
   ]
  },
  {
   "cell_type": "code",
   "execution_count": 49,
   "metadata": {},
   "outputs": [],
   "source": [
    "m11 = H_test[:2,:2]\n",
    "m12 = H_test[:2,2:] \n",
    "m21 = H_test[2:,:2]\n",
    "m22 = H_test[2:,2:]"
   ]
  },
  {
   "cell_type": "code",
   "execution_count": 50,
   "metadata": {},
   "outputs": [],
   "source": [
    "coef_list = []"
   ]
  },
  {
   "cell_type": "code",
   "execution_count": 51,
   "metadata": {},
   "outputs": [],
   "source": [
    "coef_list.append((m11[0,0] + m11[1,1])/2)\n",
    "coef_list.append((m11[0,0] - m11[1,1])/2)\n",
    "coef_list.append((m11[0,1] + m11[1,0])/2)\n",
    "coef_list.append((m11[0,1] - m11[1,0])*(-j)/2)\n",
    "coef_list.append((m12[0,0] + m12[1,1])/2)\n",
    "coef_list.append((m12[0,0] - m12[1,1])/2)\n",
    "coef_list.append((m12[0,1] + m12[1,0])/2)\n",
    "coef_list.append((m12[0,1] - m12[1,0])*(-j)/2)\n",
    "coef_list.append((m21[0,0] + m21[1,1])/2)\n",
    "coef_list.append((m21[0,0] - m21[1,1])/2)\n",
    "coef_list.append((m21[0,1] + m21[1,0])/2)\n",
    "coef_list.append((m21[0,1] - m21[1,0])*(-j)/2)\n",
    "coef_list.append((m22[0,0] + m22[1,1])/2)\n",
    "coef_list.append((m22[0,0] - m22[1,1])/2)\n",
    "coef_list.append((m22[0,1] + m22[1,0])/2)\n",
    "coef_list.append((m22[0,1] - m22[1,0])*(-j)/2)"
   ]
  },
  {
   "cell_type": "code",
   "execution_count": 52,
   "metadata": {},
   "outputs": [
    {
     "data": {
      "text/plain": [
       "[(0.9005362940313093+1.3204313675811121j),\n",
       " (-0.08622551788374494-0.08438509874824285j),\n",
       " (0.7635570833803782+0.9990637222435708j),\n",
       " 0j,\n",
       " (0.4870871213098663+0.9587796614603952j),\n",
       " (-0.061228390080900724-0.00888796892719318j),\n",
       " (0.521002575605159+1.058572172370484j),\n",
       " 0j,\n",
       " 0j,\n",
       " 0j,\n",
       " (1.1102230246251565e-16+2.7755575615628914e-17j),\n",
       " 0j,\n",
       " (-0.37607936649825796-0.2072217820735277j),\n",
       " (-0.23338216083836255+0.3002352018351063j),\n",
       " (-0.3685600234469524-0.32519660297994957j),\n",
       " 0j]"
      ]
     },
     "execution_count": 52,
     "metadata": {},
     "output_type": "execute_result"
    }
   ],
   "source": [
    "coef_list"
   ]
  },
  {
   "cell_type": "code",
   "execution_count": 43,
   "metadata": {},
   "outputs": [
    {
     "data": {
      "text/plain": [
       "(0.7635570833803782+0.9990637222435708j)"
      ]
     },
     "execution_count": 43,
     "metadata": {},
     "output_type": "execute_result"
    }
   ],
   "source": []
  },
  {
   "cell_type": "code",
   "execution_count": 44,
   "metadata": {},
   "outputs": [
    {
     "data": {
      "text/plain": [
       "-0j"
      ]
     },
     "execution_count": 44,
     "metadata": {},
     "output_type": "execute_result"
    }
   ],
   "source": []
  },
  {
   "cell_type": "code",
   "execution_count": null,
   "metadata": {},
   "outputs": [],
   "source": []
  },
  {
   "cell_type": "code",
   "execution_count": 36,
   "metadata": {},
   "outputs": [],
   "source": [
    "from pd import PauliDecomposition"
   ]
  },
  {
   "cell_type": "code",
   "execution_count": 37,
   "metadata": {},
   "outputs": [],
   "source": [
    "pstring, pcoef = PauliDecomposition(H)\n",
    "pdecompose = {st:coef for st, coef in zip(pstring, pcoef)}"
   ]
  },
  {
   "cell_type": "code",
   "execution_count": 38,
   "metadata": {},
   "outputs": [
    {
     "data": {
      "text/plain": [
       "{'II': (0.9005362940313093+1.3204313675811121j),\n",
       " 'IX': (0.7635570833803782+0.9990637222435708j),\n",
       " 'IZ': (-0.08622551788374494-0.08438509874824285j),\n",
       " 'XI': (0.4870871213098663+0.9587796614603952j),\n",
       " 'XX': (0.521002575605159+1.058572172370484j),\n",
       " 'XZ': (-0.061228390080900724-0.00888796892719318j),\n",
       " 'YY': (0.24851833341979765-0.17550013528666797j),\n",
       " 'ZI': (-0.376079366498258-0.20722178207352765j),\n",
       " 'ZX': (-0.3685600234469523-0.32519660297994957j),\n",
       " 'ZZ': (-0.23338216083836252+0.3002352018351064j)}"
      ]
     },
     "execution_count": 38,
     "metadata": {},
     "output_type": "execute_result"
    }
   ],
   "source": [
    "pdecompose"
   ]
  },
  {
   "cell_type": "code",
   "execution_count": 14,
   "metadata": {},
   "outputs": [],
   "source": [
    "def fast_p_decompose(H):\n",
    "    exp2n = H.shape[0]\n",
    "    n = int(np.log2(exp2n))\n",
    "    # Implementation of decomposition\n",
    "    l = int(exp2n)\n",
    "    for i in range(n):\n",
    "        m = int(2**i)\n",
    "        l = int(l/2)\n",
    "        for j in range(m):\n",
    "            for k in range(m):\n",
    "\n",
    "                num_i = j*l\n",
    "                num_j = k*l\n",
    "\n",
    "                H[num_i: num_i+l, num_j:num_j+l] += H[num_i+l: num_i+2*l, num_j+l:num_j+2*l] \n",
    "                H[num_i+l: num_i+2*l, num_j+l:num_j+2*l]  = H[num_i: num_i+l, num_j:num_j+l] - 2*H[num_i+l: num_i+2*l, num_j+l:num_j+2*l]\n",
    "\n",
    "                H[num_i: num_i+l, num_j+l:num_j+2*l] += H[num_i+l: num_i+2*l, num_j:num_j+l] \n",
    "                H[num_i+l: num_i+2*l, num_j:num_j+l] =  H[num_i: num_i+l, num_j+l:num_j+2*l] - 2*H[num_i+l: num_i+2*l, num_j:num_j+l]\n",
    "                H[num_i+l: num_i+2*l, num_j:num_j+l] *= -1j\n",
    "\n",
    "        H *= 0.5\n",
    "    return H"
   ]
  },
  {
   "cell_type": "markdown",
   "metadata": {},
   "source": [
    "# string to matrix"
   ]
  },
  {
   "cell_type": "code",
   "execution_count": 17,
   "metadata": {},
   "outputs": [],
   "source": [
    "from opttrot.utils import pstr_to_matrix, pstr_to_xz_fam_code"
   ]
  },
  {
   "cell_type": "code",
   "execution_count": 18,
   "metadata": {},
   "outputs": [],
   "source": [
    "pstr= \"IZX\"\n",
    "xz_code = pstr_to_xz_fam_code(pstr)\n",
    "p_matrix = pstr_to_matrix(pstr)"
   ]
  },
  {
   "cell_type": "code",
   "execution_count": 19,
   "metadata": {},
   "outputs": [
    {
     "data": {
      "text/plain": [
       "array([[ 0.+0.j,  1.+0.j,  0.+0.j,  0.+0.j,  0.+0.j,  0.+0.j,  0.+0.j,\n",
       "         0.+0.j],\n",
       "       [ 1.+0.j,  0.+0.j,  0.+0.j,  0.+0.j,  0.+0.j,  0.+0.j,  0.+0.j,\n",
       "         0.+0.j],\n",
       "       [ 0.+0.j,  0.+0.j, -0.+0.j, -1.+0.j,  0.+0.j,  0.+0.j, -0.+0.j,\n",
       "        -0.+0.j],\n",
       "       [ 0.+0.j,  0.+0.j, -1.+0.j, -0.+0.j,  0.+0.j,  0.+0.j, -0.+0.j,\n",
       "        -0.+0.j],\n",
       "       [ 0.+0.j,  0.+0.j,  0.+0.j,  0.+0.j,  0.+0.j,  1.+0.j,  0.+0.j,\n",
       "         0.+0.j],\n",
       "       [ 0.+0.j,  0.+0.j,  0.+0.j,  0.+0.j,  1.+0.j,  0.+0.j,  0.+0.j,\n",
       "         0.+0.j],\n",
       "       [ 0.+0.j,  0.+0.j, -0.+0.j, -0.+0.j,  0.+0.j,  0.+0.j, -0.+0.j,\n",
       "        -1.+0.j],\n",
       "       [ 0.+0.j,  0.+0.j, -0.+0.j, -0.+0.j,  0.+0.j,  0.+0.j, -1.+0.j,\n",
       "        -0.+0.j]])"
      ]
     },
     "execution_count": 19,
     "metadata": {},
     "output_type": "execute_result"
    }
   ],
   "source": [
    "p_matrix"
   ]
  },
  {
   "cell_type": "code",
   "execution_count": 20,
   "metadata": {},
   "outputs": [
    {
     "data": {
      "text/plain": [
       "(1, 2)"
      ]
     },
     "execution_count": 20,
     "metadata": {},
     "output_type": "execute_result"
    }
   ],
   "source": [
    "xz_code"
   ]
  },
  {
   "cell_type": "code",
   "execution_count": 26,
   "metadata": {},
   "outputs": [
    {
     "name": "stdout",
     "output_type": "stream",
     "text": [
      "0j  (-0.0380859375+0.0517578125j)  0j  (0.0126953125-0.01953125j)  0j  (0.0498046875-0.0126953125j)  0j  (0.0244140625+0.021484375j)  \n",
      "(0.1259765625-0.048828125j)  0j  (0.0234375-0.0703125j)  0j  (0.0126953125-0.05078125j)  0j  (0.0029296875+0.017578125j)  0j  \n",
      "0j  (0.1201171875-0.0126953125j)  0j  (0.1494140625-0.0078125j)  0j  (0.0234375+0.021484375j)  0j  0j  \n",
      "(0.091796875+0.060546875j)  0j  (0.15234375-0.1865234375j)  0j  (0.1728515625-0.2529296875j)  0j  0j  0j  \n",
      "0j  (0.0107421875-0.056640625j)  0j  (-0.0263671875-0.0615234375j)  0j  (-0.01953125+0.0009765625j)  0j  (-0.00390625-0.01171875j)  \n",
      "(0.013671875+0.0048828125j)  0j  (0.033203125+0.017578125j)  0j  (-0.0185546875-0.0029296875j)  0j  (0.01953125-0.0205078125j)  0j  \n",
      "0j  (0.00390625-0.0107421875j)  0j  0j  0j  (0.0048828125+0.01953125j)  0j  (-0.0234375-0.0048828125j)  \n",
      "(-0.0146484375-0.04296875j)  0j  0j  0j  (-0.0224609375+0.048828125j)  0j  (-0.00390625+0.021484375j)  0j  \n"
     ]
    }
   ],
   "source": [
    "ma = fast_p_decompose(p_matrix)\n",
    "nx, ny = ma.shape\n",
    "\n",
    "for i in range(nx):\n",
    "    for j in range(ny):\n",
    "        print(ma[i][j], \" \", end=\"\")\n",
    "    print(\"\")"
   ]
  },
  {
   "cell_type": "code",
   "execution_count": null,
   "metadata": {},
   "outputs": [],
   "source": []
  }
 ],
 "metadata": {
  "kernelspec": {
   "display_name": "quantum_computer",
   "language": "python",
   "name": "python3"
  },
  "language_info": {
   "codemirror_mode": {
    "name": "ipython",
    "version": 3
   },
   "file_extension": ".py",
   "mimetype": "text/x-python",
   "name": "python",
   "nbconvert_exporter": "python",
   "pygments_lexer": "ipython3",
   "version": "3.11.4"
  }
 },
 "nbformat": 4,
 "nbformat_minor": 2
}
