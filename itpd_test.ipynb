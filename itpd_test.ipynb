{
 "cells": [
  {
   "cell_type": "markdown",
   "metadata": {},
   "source": [
    "# TPD/iTPD implementation test "
   ]
  },
  {
   "cell_type": "code",
   "execution_count": 16,
   "metadata": {},
   "outputs": [],
   "source": [
    "from tpc import tp\n",
    "from tpc.utils import mat_diff, ppoly2mat\n",
    "import numpy as np"
   ]
  },
  {
   "cell_type": "code",
   "execution_count": 17,
   "metadata": {},
   "outputs": [],
   "source": [
    "from copy import deepcopy"
   ]
  },
  {
   "cell_type": "code",
   "execution_count": 18,
   "metadata": {},
   "outputs": [],
   "source": [
    "# Random hermit matrix\n",
    "n = 5\n",
    "N = int(2**n)\n",
    "A = np.random.rand(N, N)\n",
    "B = np.random.rand(N, N)\n",
    "C = np.matrix(A + 1j* B)\n",
    "H = 0.5*(C + C.H)"
   ]
  },
  {
   "cell_type": "markdown",
   "metadata": {},
   "source": [
    "## TPD algorithm"
   ]
  },
  {
   "cell_type": "code",
   "execution_count": 19,
   "metadata": {},
   "outputs": [],
   "source": [
    "# Canonical matrix\n",
    "canonical = (tp.tpd(deepcopy(H)).real)"
   ]
  },
  {
   "cell_type": "code",
   "execution_count": 20,
   "metadata": {},
   "outputs": [
    {
     "data": {
      "text/plain": [
       "matrix([[ 0.56153029,  0.45604713,  0.50851166, ...,  0.41970604,\n",
       "          0.47387409,  0.46898219],\n",
       "        [-0.0155733 , -0.01956309, -0.01252462, ..., -0.01219589,\n",
       "         -0.04804467, -0.00874808],\n",
       "        [ 0.09226451,  0.03240614, -0.1073068 , ...,  0.04117718,\n",
       "         -0.01437803,  0.05191796],\n",
       "        ...,\n",
       "        [ 0.01569611, -0.02012842,  0.01197734, ..., -0.08435024,\n",
       "          0.05659452, -0.0120251 ],\n",
       "        [ 0.08208257, -0.06444761,  0.09406771, ..., -0.00853974,\n",
       "          0.01713914, -0.05005177],\n",
       "        [ 0.00927137, -0.07101529,  0.12513197, ..., -0.08088744,\n",
       "          0.03420327, -0.0098746 ]])"
      ]
     },
     "execution_count": 20,
     "metadata": {},
     "output_type": "execute_result"
    }
   ],
   "source": [
    "canonical"
   ]
  },
  {
   "cell_type": "markdown",
   "metadata": {},
   "source": [
    "## Canonical matrix to Pauli poly\n",
    "\n",
    "$M$: Canonical matrix, result of TPD algorithm.\n",
    "$$M_{i,j} = w_{nz, nx} $$\n",
    "$$(i,j) = (nz, nz^\\wedge nx)$$\n",
    "$$(nz, nx) = (i, i^\\wedge j)$$"
   ]
  },
  {
   "cell_type": "code",
   "execution_count": 21,
   "metadata": {},
   "outputs": [],
   "source": [
    "ppoly = tp.canonical2ppoly(canonical)"
   ]
  },
  {
   "cell_type": "code",
   "execution_count": 22,
   "metadata": {},
   "outputs": [
    {
     "data": {
      "text/plain": [
       "([('IIIII', 0.5615302897816523),\n",
       "  ('IIIIX', 0.45604712515872586),\n",
       "  ('IIIXI', 0.5085116626019468),\n",
       "  ('IIIXX', 0.39495562598801365),\n",
       "  ('IIXII', 0.45106215989611986)],\n",
       " [('ZZYZZ', 0.017028171326361204),\n",
       "  ('ZZZYY', -0.03704249758448695),\n",
       "  ('ZZZYZ', -0.08088743806356347),\n",
       "  ('ZZZZY', 0.03420326917651252),\n",
       "  ('ZZZZZ', -0.009874600271354315)])"
      ]
     },
     "execution_count": 22,
     "metadata": {},
     "output_type": "execute_result"
    }
   ],
   "source": [
    "ppoly[:5], ppoly[-5:]"
   ]
  },
  {
   "cell_type": "markdown",
   "metadata": {},
   "source": [
    "## Pauli polynomial to canonical matrix"
   ]
  },
  {
   "cell_type": "markdown",
   "metadata": {},
   "source": [
    "$$\\sum_{nz, nx} \\omega_{nz, nx} P_{nz, nx} \\rightarrow M$$"
   ]
  },
  {
   "cell_type": "code",
   "execution_count": 23,
   "metadata": {},
   "outputs": [
    {
     "data": {
      "text/plain": [
       "matrix([[ 0.56153029+0.j,  0.45604713+0.j,  0.50851166+0.j, ...,\n",
       "          0.41970604+0.j,  0.47387409+0.j,  0.46898219+0.j],\n",
       "        [-0.0155733 +0.j, -0.01956309+0.j, -0.01252462+0.j, ...,\n",
       "         -0.01219589+0.j, -0.04804467+0.j, -0.00874808+0.j],\n",
       "        [ 0.09226451+0.j,  0.03240614+0.j, -0.1073068 +0.j, ...,\n",
       "          0.04117718+0.j, -0.01437803+0.j,  0.05191796+0.j],\n",
       "        ...,\n",
       "        [ 0.01569611+0.j, -0.02012842+0.j,  0.01197734+0.j, ...,\n",
       "         -0.08435024+0.j,  0.05659452+0.j, -0.0120251 +0.j],\n",
       "        [ 0.08208257+0.j, -0.06444761+0.j,  0.09406771+0.j, ...,\n",
       "         -0.00853974+0.j,  0.01713914+0.j, -0.05005177+0.j],\n",
       "        [ 0.00927137+0.j, -0.07101529+0.j,  0.12513197+0.j, ...,\n",
       "         -0.08088744+0.j,  0.03420327+0.j, -0.0098746 +0.j]])"
      ]
     },
     "execution_count": 23,
     "metadata": {},
     "output_type": "execute_result"
    }
   ],
   "source": [
    "canonical = tp.ppoly2canonical(ppoly)\n",
    "canonical"
   ]
  },
  {
   "cell_type": "code",
   "execution_count": null,
   "metadata": {},
   "outputs": [],
   "source": [
    "H_res = tp.itpd(ppoly)\n",
    "H_res_naive = ppoly2mat(ppoly) # Naive tensor product"
   ]
  },
  {
   "cell_type": "markdown",
   "metadata": {},
   "source": [
    "## Test the restored Hamiltonian\n",
    "\n",
    "$$D = H - H_{res}$$\n",
    "$$\\sqrt{\\langle D | D \\rangle}$$"
   ]
  },
  {
   "cell_type": "code",
   "execution_count": 27,
   "metadata": {},
   "outputs": [
    {
     "data": {
      "text/plain": [
       "((5.148747239520243e-16+0j),\n",
       " (2.320133686802434-6.356972294260158e-19j),\n",
       " (2.320133686802434-7.71489363849964e-19j))"
      ]
     },
     "execution_count": 27,
     "metadata": {},
     "output_type": "execute_result"
    }
   ],
   "source": [
    "mat_diff(H, H_res), mat_diff(H, H_res_naive), mat_diff(H_res, H_res_naive)"
   ]
  },
  {
   "cell_type": "markdown",
   "metadata": {},
   "source": [
    "## Effective Term method"
   ]
  },
  {
   "cell_type": "code",
   "execution_count": null,
   "metadata": {},
   "outputs": [],
   "source": [
    "H_eff = tp.itpd_eff(ppoly) # Avoid unecessary calculation."
   ]
  },
  {
   "cell_type": "code",
   "execution_count": 15,
   "metadata": {},
   "outputs": [
    {
     "data": {
      "text/plain": [
       "(5.267182256956205e-16+0j)"
      ]
     },
     "execution_count": 15,
     "metadata": {},
     "output_type": "execute_result"
    }
   ],
   "source": [
    "mat_diff(H, H_eff)"
   ]
  }
 ],
 "metadata": {
  "kernelspec": {
   "display_name": "opttrot",
   "language": "python",
   "name": "python3"
  },
  "language_info": {
   "codemirror_mode": {
    "name": "ipython",
    "version": 3
   },
   "file_extension": ".py",
   "mimetype": "text/x-python",
   "name": "python",
   "nbconvert_exporter": "python",
   "pygments_lexer": "ipython3",
   "version": "3.12.4"
  }
 },
 "nbformat": 4,
 "nbformat_minor": 2
}
