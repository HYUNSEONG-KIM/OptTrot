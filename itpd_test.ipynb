{
 "cells": [
  {
   "cell_type": "markdown",
   "metadata": {},
   "source": [
    "# TPD/iTPD implementation test "
   ]
  },
  {
   "cell_type": "code",
   "execution_count": 1,
   "metadata": {},
   "outputs": [],
   "source": [
    "from tpc import tp\n",
    "from tpc.utils import mat_diff, ppoly2mat\n",
    "import numpy as np"
   ]
  },
  {
   "cell_type": "code",
   "execution_count": 2,
   "metadata": {},
   "outputs": [],
   "source": [
    "from copy import deepcopy"
   ]
  },
  {
   "cell_type": "code",
   "execution_count": 3,
   "metadata": {},
   "outputs": [],
   "source": [
    "# Random hermit matrix\n",
    "n = 5\n",
    "N = int(2**n)\n",
    "A = np.random.rand(N, N)\n",
    "B = np.random.rand(N, N)\n",
    "C = np.matrix(A + 1j* B)\n",
    "H = 0.5*(C + C.H)"
   ]
  },
  {
   "cell_type": "markdown",
   "metadata": {},
   "source": [
    "## TPD algorithm"
   ]
  },
  {
   "cell_type": "code",
   "execution_count": 4,
   "metadata": {},
   "outputs": [],
   "source": [
    "# Canonical matrix\n",
    "canonical = (tp.tpd(deepcopy(H)).real)"
   ]
  },
  {
   "cell_type": "code",
   "execution_count": 5,
   "metadata": {},
   "outputs": [
    {
     "data": {
      "text/plain": [
       "matrix([[ 4.49298699e-01,  4.36250805e-01,  5.77338795e-01, ...,\n",
       "          4.99618361e-01,  5.37688910e-01,  4.78910518e-01],\n",
       "        [-1.56018309e-02,  6.55488833e-02,  4.84644511e-03, ...,\n",
       "          1.70305319e-02,  1.98886423e-02,  5.67595290e-02],\n",
       "        [-2.39813338e-02,  5.47330706e-02, -1.67480861e-02, ...,\n",
       "          1.16076332e-02, -4.27601939e-02,  2.70480055e-02],\n",
       "        ...,\n",
       "        [ 1.24846064e-02, -6.55505731e-02, -1.39624965e-02, ...,\n",
       "         -4.47003253e-02, -4.81361241e-02, -5.54621941e-02],\n",
       "        [ 2.65424955e-02, -8.44073628e-02, -1.84676885e-02, ...,\n",
       "          1.38192970e-02,  6.65614460e-02,  3.54168211e-02],\n",
       "        [ 5.34469623e-03,  2.07979310e-04, -2.88625284e-02, ...,\n",
       "         -2.82110605e-02,  3.43134402e-02, -2.82474492e-02]])"
      ]
     },
     "execution_count": 5,
     "metadata": {},
     "output_type": "execute_result"
    }
   ],
   "source": [
    "canonical"
   ]
  },
  {
   "cell_type": "markdown",
   "metadata": {},
   "source": [
    "## Canonical matrix to Pauli poly\n",
    "\n",
    "$M$: Canonical matrix, result of TPD algorithm.\n",
    "$$M_{i,j} = w_{nz, nx} $$\n",
    "$$(i,j) = (nz, nz^\\wedge nx)$$\n",
    "$$(nz, nx) = (i, i^\\wedge j)$$"
   ]
  },
  {
   "cell_type": "code",
   "execution_count": 6,
   "metadata": {},
   "outputs": [],
   "source": [
    "ppoly = tp.canonical2ppoly(canonical)"
   ]
  },
  {
   "cell_type": "code",
   "execution_count": 7,
   "metadata": {},
   "outputs": [
    {
     "data": {
      "text/plain": [
       "([('IIIII', 0.4492986989862897),\n",
       "  ('IIIIX', 0.43625080549953354),\n",
       "  ('IIIXI', 0.5773387949278581),\n",
       "  ('IIIXX', 0.5623400831724683),\n",
       "  ('IIXII', 0.4277748466884108)],\n",
       " [('ZZYZZ', -0.068395043876808),\n",
       "  ('ZZZYY', -0.03498902425426449),\n",
       "  ('ZZZYZ', -0.028211060498751328),\n",
       "  ('ZZZZY', 0.0343134402080574),\n",
       "  ('ZZZZZ', -0.028247449213379114)])"
      ]
     },
     "execution_count": 7,
     "metadata": {},
     "output_type": "execute_result"
    }
   ],
   "source": [
    "ppoly[:5], ppoly[-5:]"
   ]
  },
  {
   "cell_type": "markdown",
   "metadata": {},
   "source": [
    "## Pauli polynomial to canonical matrix"
   ]
  },
  {
   "cell_type": "markdown",
   "metadata": {},
   "source": [
    "$$\\sum_{nz, nx} \\omega_{nz, nx} P_{nz, nx} \\rightarrow M$$"
   ]
  },
  {
   "cell_type": "code",
   "execution_count": 8,
   "metadata": {},
   "outputs": [
    {
     "data": {
      "text/plain": [
       "matrix([[ 4.49298699e-01+0.j,  4.36250805e-01+0.j,  5.77338795e-01+0.j,\n",
       "         ...,  4.99618361e-01+0.j,  5.37688910e-01+0.j,\n",
       "          4.78910518e-01+0.j],\n",
       "        [-1.56018309e-02+0.j,  6.55488833e-02+0.j,  4.84644511e-03+0.j,\n",
       "         ...,  1.70305319e-02+0.j,  1.98886423e-02+0.j,\n",
       "          5.67595290e-02+0.j],\n",
       "        [-2.39813338e-02+0.j,  5.47330706e-02+0.j, -1.67480861e-02+0.j,\n",
       "         ...,  1.16076332e-02+0.j, -4.27601939e-02+0.j,\n",
       "          2.70480055e-02+0.j],\n",
       "        ...,\n",
       "        [ 1.24846064e-02+0.j, -6.55505731e-02+0.j, -1.39624965e-02+0.j,\n",
       "         ..., -4.47003253e-02+0.j, -4.81361241e-02+0.j,\n",
       "         -5.54621941e-02+0.j],\n",
       "        [ 2.65424955e-02+0.j, -8.44073628e-02+0.j, -1.84676885e-02+0.j,\n",
       "         ...,  1.38192970e-02+0.j,  6.65614460e-02+0.j,\n",
       "          3.54168211e-02+0.j],\n",
       "        [ 5.34469623e-03+0.j,  2.07979310e-04+0.j, -2.88625284e-02+0.j,\n",
       "         ..., -2.82110605e-02+0.j,  3.43134402e-02+0.j,\n",
       "         -2.82474492e-02+0.j]])"
      ]
     },
     "execution_count": 8,
     "metadata": {},
     "output_type": "execute_result"
    }
   ],
   "source": [
    "canonical = tp.ppoly2canonical(ppoly)\n",
    "canonical"
   ]
  },
  {
   "cell_type": "code",
   "execution_count": 9,
   "metadata": {},
   "outputs": [],
   "source": [
    "H_res = tp.itpd(ppoly)"
   ]
  },
  {
   "cell_type": "markdown",
   "metadata": {},
   "source": [
    "## Test the restored Hamiltonian\n",
    "\n",
    "$$D = H - H_{res}$$\n",
    "$$\\sqrt{\\langle D | D \\rangle}$$"
   ]
  },
  {
   "cell_type": "code",
   "execution_count": 10,
   "metadata": {},
   "outputs": [
    {
     "data": {
      "text/plain": [
       "(5.267182256956205e-16+0j)"
      ]
     },
     "execution_count": 10,
     "metadata": {},
     "output_type": "execute_result"
    }
   ],
   "source": [
    "mat_diff(H, H_res)"
   ]
  },
  {
   "cell_type": "markdown",
   "metadata": {},
   "source": [
    "## Effective Term method"
   ]
  },
  {
   "cell_type": "code",
   "execution_count": 14,
   "metadata": {},
   "outputs": [],
   "source": [
    "H_eff = tp.itpd_eff(ppoly)"
   ]
  },
  {
   "cell_type": "code",
   "execution_count": 15,
   "metadata": {},
   "outputs": [
    {
     "data": {
      "text/plain": [
       "(5.267182256956205e-16+0j)"
      ]
     },
     "execution_count": 15,
     "metadata": {},
     "output_type": "execute_result"
    }
   ],
   "source": [
    "mat_diff(H, H_eff)"
   ]
  }
 ],
 "metadata": {
  "kernelspec": {
   "display_name": "opttrot",
   "language": "python",
   "name": "python3"
  },
  "language_info": {
   "codemirror_mode": {
    "name": "ipython",
    "version": 3
   },
   "file_extension": ".py",
   "mimetype": "text/x-python",
   "name": "python",
   "nbconvert_exporter": "python",
   "pygments_lexer": "ipython3",
   "version": "3.12.4"
  }
 },
 "nbformat": 4,
 "nbformat_minor": 2
}
